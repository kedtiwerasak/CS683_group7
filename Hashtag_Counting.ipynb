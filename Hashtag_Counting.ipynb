{
 "cells": [
  {
   "cell_type": "code",
   "execution_count": 3,
   "metadata": {},
   "outputs": [],
   "source": [
    "import tweepy\n",
    "from tweepy.streaming import StreamListener\n",
    "from tweepy import OAuthHandler, Stream\n",
    "import re\n",
    "import json\n",
    "import time\n",
    "import datetime\n",
    "import sys\n",
    "import numpy as np\n",
    "import matplotlib.pyplot as plt\n",
    "import matplotlib as mpl\n",
    "from IPython.display import clear_output\n",
    "\n",
    "access_token = ''\n",
    "access_token_secret = ''\n",
    "consumer_key = ''\n",
    "consumer_secret = ''\n",
    "\n",
    "#Try get token and consumer key from http://developer.twitter.com\n",
    "with open('key.txt') as fp:\n",
    "    access_token = fp.readline()\n",
    "    access_token_secret = fp.readline()\n",
    "    consumer_key = fp.readline()\n",
    "    consumer_secret = fp.readline()\n",
    "    \n",
    "auth = OAuthHandler(consumer_key, consumer_secret)\n",
    "auth.set_access_token(access_token, access_token_secret)\n",
    "\n",
    "fp = mpl.font_manager.FontProperties(family='TH Sarabun New',size=20)"
   ]
  },
  {
   "cell_type": "code",
   "execution_count": 2,
   "metadata": {},
   "outputs": [],
   "source": [
    "def extract_hash_tags(text):\n",
    "    return set(re.findall(r\"#(\\w+)\", text))\n",
    "# extract_hash_tags(\"#test http://example.org/#comments #test\")\n",
    "# >>>['test', 'comments', 'test']"
   ]
  },
  {
   "cell_type": "code",
   "execution_count": 3,
   "metadata": {},
   "outputs": [],
   "source": [
    "def show_plot(dic):\n",
    "    sorted_d = sorted((value, key) for (key,value) in dic.items())\n",
    "    values = [i[0] for i in sorted_d]\n",
    "    bars = [i[1] for i in sorted_d]\n",
    "    \n",
    "    if len(values) > 9 and len(bars) > 9:\n",
    "        values = values[len(values)-10:len(values)]\n",
    "        bars = tuple(bars[len(bars)-10:len(bars)])\n",
    "    else:\n",
    "        bars = tuple(bars)\n",
    "    \n",
    "    clear_output()\n",
    "    y_pos = np.arange(len(bars))\n",
    "    plt.barh(y_pos, values)\n",
    "    plt.yticks(y_pos, bars, fontproperties=fp)\n",
    "    plt.show()"
   ]
  },
  {
   "cell_type": "code",
   "execution_count": 4,
   "metadata": {
    "scrolled": true
   },
   "outputs": [],
   "source": [
    "class MyListener(StreamListener):\n",
    "    def __init__(self):\n",
    "        self.count = 0\n",
    "        self.dict = {}\n",
    "        self.start = time.time()\n",
    "\n",
    "        \n",
    "    def on_data(self, data):\n",
    "        raw = json.loads(data)\n",
    "        self.count = self.count + 1\n",
    "        hashtagSet = extract_hash_tags(raw['text'])\n",
    "        \n",
    "        if hashtagSet:\n",
    "            for i in hashtagSet:\n",
    "                if i in self.dict:\n",
    "                    self.dict[i] += 1\n",
    "                else:\n",
    "                    self.dict[i] = 1\n",
    "        \n",
    "        show_plot(self.dict)\n",
    "        print(\"Counting :\",self.count, \"| Timing :\",str(datetime.timedelta(seconds=time.time()-self.start)),\"\\nText :\", raw['text'],end='\\r')\n",
    "        if self.count%100 == 0:\n",
    "            time.sleep(5)\n",
    "        \n",
    "        try:\n",
    "            with open('data.json', 'a', encoding='utf8') as f:\n",
    "                json.dump(raw, f, ensure_ascii=False)\n",
    "                f.write('\\n')\n",
    "#                 return True\n",
    "        except BaseException as e:\n",
    "            print(\"Error on_data: %s\" % str(e))\n",
    "        \n",
    "        if self.count%200 == 0:\n",
    "            print('Dict :', self.dict)\n",
    "            print(\"Counting :\",self.count, \"| Timing :\",str(datetime.timedelta(seconds=time.time()-self.start)))\n",
    "            sys.exit(0)\n",
    "        \n",
    "        return True\n",
    "    \n",
    "    def on_error(self, status):\n",
    "        print(status)\n",
    "        return True"
   ]
  },
  {
   "cell_type": "code",
   "execution_count": 5,
   "metadata": {},
   "outputs": [
    {
     "data": {
      "image/png": "[encoded data removed]",
      "text/plain": [
       "<Figure size 432x288 with 1 Axes>"
      ]
     },
     "metadata": {
      "needs_background": "light"
     },
     "output_type": "display_data"
    },
    {
     "name": "stdout",
     "output_type": "stream",
     "text": [
      "Counting : 5 | Timing : 0:01:17.772353 \n",
      "Text : RT @TomyamWasabi: 23ธ.ค วันเฉลิมพระชนมพรรษา 85 พรรษาของสมเด็จพระจักรพรรดิอากิฮิโตะ👑\n",
      "\n",
      "ปีนี้มีประชาชนมาร่วมถวายพระพร มากที่สุดในประวัติศาสตร์…\r"
     ]
    }
   ],
   "source": [
    "listener3 = MyListener()\n",
    "twitter_stream3 = Stream(auth, listener3)\n",
    "twitter_stream3.filter(track=['news'], languages=['th'], is_async=True)"
   ]
  }
 ],
 "metadata": {
  "kernelspec": {
   "display_name": "Python 3",
   "language": "python",
   "name": "python3"
  },
  "language_info": {
   "codemirror_mode": {
    "name": "ipython",
    "version": 3
   },
   "file_extension": ".py",
   "mimetype": "text/x-python",
   "name": "python",
   "nbconvert_exporter": "python",
   "pygments_lexer": "ipython3",
   "version": "3.7.0"
  }
 },
 "nbformat": 4,
 "nbformat_minor": 2
}
